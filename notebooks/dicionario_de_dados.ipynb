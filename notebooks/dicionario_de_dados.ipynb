{
 "cells": [
  {
   "cell_type": "code",
   "execution_count": 6,
   "id": "8d323fd3-ef91-4021-873d-c6f7263862b3",
   "metadata": {
    "tags": []
   },
   "outputs": [
    {
     "name": "stdout",
     "output_type": "stream",
     "text": [
      "species: {'variavel': 'species', 'descricao': 'Espécie do pinguim', 'tipo': 'qualitativa', 'subtipo': 'nominal'}\n",
      "island: {'variavel': 'island', 'descricao': 'Ilha onde o pinguim foi encontrado', 'tipo': 'qualitativa', 'subtipo': 'nominal'}\n",
      "bill_length_mm: {'variavel': 'bill_length_mm', 'descricao': 'Comprimento do bico em milímetros', 'tipo': 'quantitativa', 'subtipo': 'contínua'}\n",
      "bill_depth_mm: {'variavel': 'bill_depth_mm', 'descricao': 'Profundidade do bico em milímetros', 'tipo': 'quantitativa', 'subtipo': 'contínua'}\n",
      "flipper_length_mm: {'variavel': 'flipper_length_mm', 'descricao': 'Comprimento da nadadeira em milímetros', 'tipo': 'quantitativa', 'subtipo': 'contínua'}\n",
      "body_mass_g: {'variavel': 'body_mass_g', 'descricao': 'Massa corporal em gramas', 'tipo': 'quantitativa', 'subtipo': 'contínua'}\n",
      "sex: {'variavel': 'sex', 'descricao': 'Sexo do pinguim', 'tipo': 'qualitativa', 'subtipo': 'nominal'}\n"
     ]
    }
   ],
   "source": [
    "import pandas as pd\n",
    "\n",
    "# Carregar o conjunto de dados\n",
    "df = pd.read_csv('../data/raw/penguins2.csv') \n",
    "\n",
    "# Dicionário de dados para o conjunto de dados \"penguins\"\n",
    "dicionario_dados = {\n",
    "    'species': {\n",
    "        'variavel': 'species',\n",
    "        'descricao': 'Espécie do pinguim',\n",
    "        'tipo': 'qualitativa',\n",
    "        'subtipo': 'nominal'\n",
    "    },\n",
    "    'island': {\n",
    "        'variavel': 'island',\n",
    "        'descricao': 'Ilha onde o pinguim foi encontrado',\n",
    "        'tipo': 'qualitativa',\n",
    "        'subtipo': 'nominal'\n",
    "    },\n",
    "    'bill_length_mm': {\n",
    "        'variavel': 'bill_length_mm',\n",
    "        'descricao': 'Comprimento do bico em milímetros',\n",
    "        'tipo': 'quantitativa',\n",
    "        'subtipo': 'contínua'\n",
    "    },\n",
    "    'bill_depth_mm': {\n",
    "        'variavel': 'bill_depth_mm',\n",
    "        'descricao': 'Profundidade do bico em milímetros',\n",
    "        'tipo': 'quantitativa',\n",
    "        'subtipo': 'contínua'\n",
    "    },\n",
    "    'flipper_length_mm': {\n",
    "        'variavel': 'flipper_length_mm',\n",
    "        'descricao': 'Comprimento da nadadeira em milímetros',\n",
    "        'tipo': 'quantitativa',\n",
    "        'subtipo': 'contínua'\n",
    "    },\n",
    "    'body_mass_g': {\n",
    "        'variavel': 'body_mass_g',\n",
    "        'descricao': 'Massa corporal em gramas',\n",
    "        'tipo': 'quantitativa',\n",
    "        'subtipo': 'contínua'\n",
    "    },\n",
    "    'sex': {\n",
    "        'variavel': 'sex',\n",
    "        'descricao': 'Sexo do pinguim',\n",
    "        'tipo': 'qualitativa',\n",
    "        'subtipo': 'nominal'\n",
    "    }\n",
    "}\n",
    "\n",
    "# Exibir o dicionário de dados\n",
    "for key, value in dicionario_dados.items():\n",
    "    print(f\"{key}: {value}\")\n"
   ]
  },
  {
   "cell_type": "code",
   "execution_count": null,
   "id": "25f745f0-16e3-46d4-8c6e-d9e4a32e5289",
   "metadata": {},
   "outputs": [],
   "source": []
  },
  {
   "cell_type": "code",
   "execution_count": null,
   "id": "0115582a-0fc2-4b92-936e-f72eb22ccc34",
   "metadata": {},
   "outputs": [],
   "source": []
  }
 ],
 "metadata": {
  "kernelspec": {
   "display_name": "Python 3 (ipykernel)",
   "language": "python",
   "name": "python3"
  },
  "language_info": {
   "codemirror_mode": {
    "name": "ipython",
    "version": 3
   },
   "file_extension": ".py",
   "mimetype": "text/x-python",
   "name": "python",
   "nbconvert_exporter": "python",
   "pygments_lexer": "ipython3",
   "version": "3.10.11"
  }
 },
 "nbformat": 4,
 "nbformat_minor": 5
}
