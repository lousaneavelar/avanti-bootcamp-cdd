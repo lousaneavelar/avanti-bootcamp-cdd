{
 "cells": [
  {
   "cell_type": "code",
   "execution_count": 1,
   "id": "e51ceafb-fd4e-49d9-811d-ed94477db693",
   "metadata": {
    "tags": []
   },
   "outputs": [],
   "source": [
    "import requests\n",
    "import os"
   ]
  },
  {
   "cell_type": "code",
   "execution_count": 9,
   "id": "2a9b9442-afa0-4a1e-a7f9-6068ced642fc",
   "metadata": {
    "tags": []
   },
   "outputs": [
    {
     "name": "stdout",
     "output_type": "stream",
     "text": [
      "Arquivo salvo em: data/raw/dados.csv\n"
     ]
    }
   ],
   "source": [
    "# Verifica se a pasta 'data/raw' existe e cria se necessario\n",
    "os.makedirs('data/raw', exist_ok = True)\n",
    "\n",
    "# URL do arquivo de dados\n",
    "url = 'https://raw.githubusercontent.com/lousaneavelar/avanti-bootcamp-cdd/master/data/raw/dados.csv'\n",
    "\n",
    "# Caminho onde o arquivo será salvo\n",
    "file_path = '..data/raw/dados.csv'\n",
    "\n",
    "# Realiza o download do arquivo e salva no caminho especificado\n",
    "response = requests.get(url)\n",
    "\n",
    "with open(file_path, 'wb') as file:\n",
    "    file.write(response.content)\n",
    "    \n",
    "print(f\"Arquivo salvo em: {file_path}\")\n"
   ]
  },
  {
   "cell_type": "code",
   "execution_count": null,
   "id": "5d5fe0f5-0778-46ea-ac5a-51ee07392830",
   "metadata": {},
   "outputs": [],
   "source": []
  }
 ],
 "metadata": {
  "kernelspec": {
   "display_name": "Python 3 (ipykernel)",
   "language": "python",
   "name": "python3"
  },
  "language_info": {
   "codemirror_mode": {
    "name": "ipython",
    "version": 3
   },
   "file_extension": ".py",
   "mimetype": "text/x-python",
   "name": "python",
   "nbconvert_exporter": "python",
   "pygments_lexer": "ipython3",
   "version": "3.10.11"
  }
 },
 "nbformat": 4,
 "nbformat_minor": 5
}
